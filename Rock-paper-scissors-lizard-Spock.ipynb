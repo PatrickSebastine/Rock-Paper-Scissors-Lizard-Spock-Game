{
 "cells": [
  {
   "cell_type": "markdown",
   "id": "2c355bf6",
   "metadata": {},
   "source": [
    "# Python Programming Game\n",
    "## Rock-paper-scissors-lizard-Spock"
   ]
  },
  {
   "cell_type": "code",
   "execution_count": 7,
   "id": "1f57c628",
   "metadata": {},
   "outputs": [],
   "source": [
    "# Importing the library\n",
    "import random"
   ]
  },
  {
   "cell_type": "code",
   "execution_count": 8,
   "id": "3f165dfb",
   "metadata": {},
   "outputs": [],
   "source": [
    "# define variable choices\n",
    "choices = ['rock', 'paper', 'scissors', 'lizard', 'spock']"
   ]
  },
  {
   "cell_type": "code",
   "execution_count": 9,
   "id": "56a0794b",
   "metadata": {},
   "outputs": [],
   "source": [
    "def determine_winner(player_choice, computer_choice):\n",
    "    \"\"\"\n",
    "    This function first checks if the player's choice and the computer's choice are the same. \n",
    "    If they are, it returns \"It's a tie!\" as the result.\n",
    "    \n",
    "    Next, it checks all the possible winning combinations. \n",
    "    If the player's choice beats the computer's choice based on the game rules, \n",
    "    it returns \"Player wins!\" as the result.\n",
    "    \n",
    "    If none of the above conditions are met, it means the computer's choice beats the player's choice, \n",
    "    and it returns \"Computer wins!\" as the result.\n",
    "    \"\"\"\n",
    "    \n",
    "    if player_choice == computer_choice:\n",
    "        return 'It\\'s a tie!'\n",
    "    elif player_choice == 'rock':\n",
    "        if computer_choice == 'scissors' or computer_choice == 'lizard':\n",
    "            return 'Player wins!'\n",
    "        else:\n",
    "            return 'Computer wins!'\n",
    "    elif player_choice == 'paper':\n",
    "        if computer_choice == 'rock' or computer_choice == 'spock':\n",
    "            return 'Player wins!'\n",
    "        else:\n",
    "            return 'Computer wins!'\n",
    "    elif player_choice == 'scissors':\n",
    "        if computer_choice == 'paper' or computer_choice == 'lizard':\n",
    "            return 'Player wins!'\n",
    "        else:\n",
    "            return 'Computer wins!'\n",
    "    elif player_choice == 'lizard':\n",
    "        if computer_choice == 'paper' or computer_choice == 'spock':\n",
    "            return 'Player wins!'\n",
    "        else:\n",
    "            return 'Computer wins!'\n",
    "    elif player_choice == 'spock':\n",
    "        if computer_choice == 'rock' or computer_choice == 'scissors':\n",
    "            return 'Player wins!'\n",
    "        else:\n",
    "            return 'Computer wins!'\n",
    "    else:\n",
    "        return 'Invalid input! Please choose from rock, paper, scissors, lizard, or spock.'"
   ]
  },
  {
   "cell_type": "code",
   "execution_count": 10,
   "id": "ee2fbde0",
   "metadata": {},
   "outputs": [],
   "source": [
    "def play_game():\n",
    "    \"\"\"\n",
    "    This function introduces you to the game with the welcome screen\n",
    "    and the player input instruction\n",
    "    \"\"\"\n",
    "    \n",
    "    print('Welcome to Rock-paper-scissors-lizard-Spock!')\n",
    "    print('Choices: rock, paper, scissors, lizard, Spock')\n",
    "    player_choice = input('Enter your choice: ').lower()\n",
    "    computer_choice = random.choice(choices)\n",
    "    print('Computer chooses:', computer_choice)\n",
    "    print(determine_winner(player_choice, computer_choice))"
   ]
  },
  {
   "cell_type": "code",
   "execution_count": 11,
   "id": "ca0aa60c",
   "metadata": {},
   "outputs": [
    {
     "name": "stdout",
     "output_type": "stream",
     "text": [
      "Welcome to Rock-paper-scissors-lizard-Spock!\n",
      "Choices: rock, paper, scissors, lizard, Spock\n",
      "Enter your choice: Spock\n",
      "Computer chooses: lizard\n",
      "Computer wins!\n"
     ]
    }
   ],
   "source": [
    "play_game()"
   ]
  },
  {
   "cell_type": "code",
   "execution_count": null,
   "id": "f49cd71f",
   "metadata": {},
   "outputs": [],
   "source": []
  }
 ],
 "metadata": {
  "kernelspec": {
   "display_name": "Python 3 (ipykernel)",
   "language": "python",
   "name": "python3"
  },
  "language_info": {
   "codemirror_mode": {
    "name": "ipython",
    "version": 3
   },
   "file_extension": ".py",
   "mimetype": "text/x-python",
   "name": "python",
   "nbconvert_exporter": "python",
   "pygments_lexer": "ipython3",
   "version": "3.9.13"
  }
 },
 "nbformat": 4,
 "nbformat_minor": 5
}
